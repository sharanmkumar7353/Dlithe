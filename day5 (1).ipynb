{
 "cells": [
  {
   "cell_type": "code",
   "execution_count": null,
   "metadata": {},
   "outputs": [],
   "source": [
    "import numpy as np\n",
    "import pandas as pd\n",
    "import matplotlib.pyplot as plt\n"
   ]
  },
  {
   "cell_type": "code",
   "execution_count": null,
   "metadata": {},
   "outputs": [],
   "source": [
    "data=pd.read_csv('data.csv')\n",
    "data.head()\n",
    "x=data['param1'].values\n",
    "y=data['param2'].values"
   ]
  },
  {
   "cell_type": "code",
   "execution_count": null,
   "metadata": {},
   "outputs": [],
   "source": [
    "mean_x=np.mean(x)\n",
    "mean_y=np.mean(y)\n",
    "\n",
    "#Total number of values\n",
    "n=len(x)\n",
    "\n",
    "#Using the formula to calculate b1 and b2\n",
    "numer=0\n",
    "denom=0\n",
    "for i range(n):\n",
    "numer += (X[i] - mean_x) * (Y[i] - mean_y)\n",
    "denom += (X[i] - mean_x) ** 2\n",
    "b1=numer/denom\n",
    "b0=mean_y - (b1*mean_x)\n",
    "\n",
    "#Printing coefficients\n",
    "print(\"Coefficients\")\n",
    "print(b1,b0)\n",
    "\n",
    "#Plotting Values and Regression Line\n",
    "\n",
    "max_x=np.max(X)+100\n",
    "min_x=np.min(X)-100\n",
    "y=b0+b1*x"
   ]
  },
  {
   "cell_type": "code",
   "execution_count": null,
   "metadata": {},
   "outputs": [],
   "source": [
    "import numpy as np\n",
    "import pandas as pd\n",
    "import matplotlib.pyplot as plt\n",
    "\n",
    "#Reading data\n",
    "data=pd.read_csv('data.csv')\n",
    "data.head()\n",
    "\n",
    "#Collecting X and Y\n",
    "x=data['param1'].values\n",
    "y=data['param2'].values\n",
    "\n",
    "#Calculating coefficients\n",
    "\n",
    "#Mean X and Y\n",
    "mean_x=np.mean(x)\n",
    "mean_y=np.mean(y)\n",
    "\n",
    "#Total number of values\n",
    "n=len(x)\n",
    "\n",
    "#Using the formula to calculate b1 and b2\n",
    "numer=0\n",
    "denom=0\n",
    "for i range(n):\n",
    "numer += (X[i] - mean_x) * (Y[i] - mean_y)\n",
    "denom += (X[i] - mean_x) ** 2\n",
    "b1=numer/denom\n",
    "b0=mean_y - (b1*mean_x)\n",
    "\n",
    "#Printing coefficients\n",
    "print(\"Coefficients\")\n",
    "print(b1,b0)\n",
    "\n",
    "#Plotting Values and Regression Line\n",
    "\n",
    "max_x=np.max(X)+100\n",
    "min_x=np.min(X)-100\n",
    "y=b0+b1*x\n",
    "plt.plot(x,y,color='#58b970',label='regression line')\n",
    "plt.scatter(X,Y,c='#ef5423',label='Scatter Plot')\n"
   ]
  },
  {
   "cell_type": "code",
   "execution_count": null,
   "metadata": {},
   "outputs": [],
   "source": [
    "mean_x=np.mean(x)\n",
    "mean_y=np.mean(y)\n"
   ]
  },
  {
   "cell_type": "code",
   "execution_count": null,
   "metadata": {},
   "outputs": [],
   "source": [
    "n=len(x)"
   ]
  },
  {
   "cell_type": "code",
   "execution_count": null,
   "metadata": {},
   "outputs": [],
   "source": [
    "numer=0\n",
    "denom=0\n",
    "for i in range(n):\n",
    "    numer += (X[i] - mean_x) * (Y[i] - mean_y)\n",
    "    denom += (X[i] - mean_x) ** 2\n",
    "    b1=numer/denom\n",
    "    b0=mean_y - (b1*mean_x)"
   ]
  },
  {
   "cell_type": "code",
   "execution_count": null,
   "metadata": {},
   "outputs": [],
   "source": [
    "import numpy as np\n",
    "import pandas as pd\n",
    "import matplotlib.pyplot as plt\n",
    "\n",
    "#Reading data\n",
    "data=pd.read_csv('data.csv')\n",
    "data.head()\n",
    "\n",
    "#Collecting X and Y\n",
    "X=data['param1'].values\n",
    "Y=data['param2'].values\n",
    "\n",
    "#Calculating coefficients\n",
    "\n",
    "#Mean X and Y\n",
    "mean_x=np.mean(x)\n",
    "mean_y=np.mean(y)\n",
    "\n",
    "#Total number of values\n",
    "n=len(x)\n",
    "\n",
    "#Using the formula to calculate b1 and b2\n",
    "numer=0\n",
    "denom=0\n",
    "for i in range(n):\n",
    "    numer += (X[i] - mean_x) * (Y[i] - mean_y)\n",
    "    denom += (X[i] - mean_x) ** 2\n",
    "b1=numer/denom\n",
    "b0=mean_y - (b1*mean_x)\n",
    "\n",
    "#Printing coefficients\n",
    "print(\"Coefficients\")\n",
    "print(b1,b0)\n",
    "\n",
    "#Plotting Values and Regression Line\n",
    "\n",
    "max_x=np.max(X)+100\n",
    "min_x=np.min(X)-100\n",
    "\n",
    "#Calculating line values x and y\n",
    "y=b0+b1*X\n",
    "\n",
    "#Plotting a line\n",
    "plt.plot(X,y,color='#58b970',label='Regression Line')\n",
    "\n",
    "#Plotting scatter Points\n",
    "plt.scatter(X,Y,c='#ef5423',label='Scatter Plot')"
   ]
  },
  {
   "cell_type": "code",
   "execution_count": null,
   "metadata": {},
   "outputs": [],
   "source": [
    "data=pd.read_csv('data.csv')"
   ]
  },
  {
   "cell_type": "code",
   "execution_count": null,
   "metadata": {},
   "outputs": [],
   "source": [
    "data=pd.read_csv('USA_Housing.csv')"
   ]
  },
  {
   "cell_type": "code",
   "execution_count": null,
   "metadata": {},
   "outputs": [],
   "source": [
    "data"
   ]
  },
  {
   "cell_type": "code",
   "execution_count": null,
   "metadata": {},
   "outputs": [],
   "source": [
    "import re\n",
    "count=0\n",
    "pattern=re.compile(\"ab\")\n",
    "matcher=pattern.finditer(\"abaababa\")\n",
    "for match in matcher:\n",
    "        count+=1\n",
    "        print(match.start(),\"....\",match.end(),'....',match.group())\n",
    "print('the no of accurence',count)"
   ]
  },
  {
   "cell_type": "code",
   "execution_count": null,
   "metadata": {},
   "outputs": [],
   "source": []
  },
  {
   "cell_type": "code",
   "execution_count": null,
   "metadata": {},
   "outputs": [],
   "source": [
    "\n",
    "import re\n",
    "matcher=re.finditer(\"[abc]\",\"a7@k9z\")\n",
    "for matcher in matcher:\n",
    "    print(match.start(),\"...\",match.group())"
   ]
  },
  {
   "cell_type": "code",
   "execution_count": null,
   "metadata": {},
   "outputs": [],
   "source": [
    "matcher=re.finditer(\"[a-z]\",\"a7@k9z\")\n",
    "for matcher in matcher:\n",
    "    print(match.start(),\"...\",match.group())"
   ]
  },
  {
   "cell_type": "code",
   "execution_count": null,
   "metadata": {},
   "outputs": [],
   "source": []
  },
  {
   "cell_type": "code",
   "execution_count": null,
   "metadata": {},
   "outputs": [],
   "source": [
    "matcher=re.finditer(\"[0-9]\",\"a7@k9z\")\n",
    "for matcher in matcher:\n",
    "    print(match.start(),\"...\",match.group())"
   ]
  },
  {
   "cell_type": "code",
   "execution_count": null,
   "metadata": {},
   "outputs": [],
   "source": [
    "matcher=re.finditer(\"[a-zA-Z0-9]\",\"a7@k9z\")\n",
    "for matcher in matcher:\n",
    "    print(match.start(),\"...\",match.group())"
   ]
  },
  {
   "cell_type": "code",
   "execution_count": null,
   "metadata": {},
   "outputs": [],
   "source": [
    "matcher=re.finditer(\"[\\s]\",\"a7@bc k9z\")\n",
    "for matcher in matcher:\n",
    "    print(match.start(),\"...\",match.group())"
   ]
  },
  {
   "cell_type": "code",
   "execution_count": null,
   "metadata": {},
   "outputs": [],
   "source": [
    "matcher=re.finditer(\"[\\D]\",\"a7@bck9z\")\n",
    "for matcher in matcher:\n",
    "    print(match.start(),\"...\",match.group())"
   ]
  },
  {
   "cell_type": "code",
   "execution_count": null,
   "metadata": {},
   "outputs": [],
   "source": [
    "matcher=re.finditer(\"[\\W]\",\"a7@bck9z\")\n",
    "for matcher in matcher:\n",
    "    print(match.start(),\"...\",match.group())"
   ]
  },
  {
   "cell_type": "code",
   "execution_count": null,
   "metadata": {},
   "outputs": [],
   "source": [
    "matcher=re.finditer(\"[\\w]\",\"a7@bck9z\")\n",
    "for matcher in matcher:\n",
    "    print(match.start(),\"...\",match.group())"
   ]
  },
  {
   "cell_type": "code",
   "execution_count": null,
   "metadata": {},
   "outputs": [],
   "source": [
    "matcher=re.finditer(\"a+\",\"abaababa\")\n",
    "for match in matcher:\n",
    "        print(match.start(),\"....\",match.group())"
   ]
  },
  {
   "cell_type": "code",
   "execution_count": null,
   "metadata": {},
   "outputs": [],
   "source": [
    "matcher=re.finditer(\"a?\",\"abaabaaaa\")\n",
    "for match in matcher:\n",
    "        print(match.start(),\"....\",match.group())"
   ]
  },
  {
   "cell_type": "code",
   "execution_count": null,
   "metadata": {},
   "outputs": [],
   "source": [
    "matcher=re.finditer(\"a{3}\",\"abaabaaaa\")\n",
    "for match in matcher:\n",
    "        print(match.start(),\"....\",match.group())"
   ]
  },
  {
   "cell_type": "code",
   "execution_count": null,
   "metadata": {},
   "outputs": [],
   "source": [
    "matcher=re.finditer(\"a{2,4}\",\"abaabaaaa\")\n",
    "for match in matcher:\n",
    "        print(match.start(),\"....\",match.group())"
   ]
  },
  {
   "cell_type": "code",
   "execution_count": null,
   "metadata": {},
   "outputs": [],
   "source": [
    "s=\"Learning Python is Easy\"\n",
    "res=re.search(\"^Easy$\",s)\n",
    "if res!= None:\n",
    "    print(\"Target String Starts With Easy\")\n",
    "else:\n",
    "    print(\"Target String Not Starts With Easy\")"
   ]
  },
  {
   "cell_type": "code",
   "execution_count": null,
   "metadata": {},
   "outputs": [],
   "source": [
    "s=\"Learning Python is Easy\"\n",
    "res=re.search(\"^easy$\",s,re.IGNORECASE)\n",
    "if res!= None:\n",
    "    print(\"Target String Starts With Easy\")\n",
    "else:\n",
    "    print(\"Target String Not Starts With easy\")"
   ]
  },
  {
   "cell_type": "code",
   "execution_count": null,
   "metadata": {},
   "outputs": [],
   "source": [
    "matcher=re.finditer(\"[7-9]\",\"0123456789\")\n",
    "for matcher in matcher:\n",
    "    print(match.start(),\"...\",match.group())"
   ]
  },
  {
   "cell_type": "code",
   "execution_count": null,
   "metadata": {},
   "outputs": [],
   "source": [
    "num=input(\"Enter mobile number\")\n",
    "if len(num)==10:\n",
    "    a=re.search(\"[6-9]\",num)\n",
    "    if a!=None:\n",
    "        print(\"correct\")\n",
    "        else:\n",
    "            print(\"invalid\")\n",
    "        else:\n",
    "            print(\"invaid num\")"
   ]
  },
  {
   "cell_type": "code",
   "execution_count": null,
   "metadata": {},
   "outputs": [],
   "source": [
    "import re\n",
    "inp=input(\"enter mobile number\")\n",
    "res=re.search(\"^[6789][0-9]{9}\",inp)\n",
    "if res!=None:\n",
    "    print(\"correct\")\n",
    "else:\n",
    "    print(\"wrong\")"
   ]
  },
  {
   "cell_type": "code",
   "execution_count": null,
   "metadata": {},
   "outputs": [],
   "source": [
    "s=input(\"enter vehicle registration number\")\n",
    "n=re.fullmatch(\"KA[0][0-6][A-Z]{2}\\d{4}\",s)\n",
    "if m!=None:\n",
    "    print(\"its valid\")\n",
    "else:\n",
    "    print(\"not valid\")"
   ]
  },
  {
   "cell_type": "code",
   "execution_count": null,
   "metadata": {},
   "outputs": [],
   "source": [
    "s=input(\"enter vehicle registration number\")\n",
    "n=re.fullmatch(\"KA[0][0-6][A-Z]{2}\\d{4}\",s)\n",
    "if m!=None:\n",
    "    print(\"its valid\")\n",
    "else:\n",
    "    print(\"not valid\")"
   ]
  },
  {
   "cell_type": "code",
   "execution_count": null,
   "metadata": {},
   "outputs": [],
   "source": [
    "s=input(\"enter vehicle registration number\")\n",
    "n=re.fullmatch(\"KA[0][0-6][A-Z]{2}\\d{4}\",s)\n",
    "if m!=None:\n",
    "    print(\"its valid\")\n",
    "else:\n",
    "    print(\"not valid\")"
   ]
  },
  {
   "cell_type": "code",
   "execution_count": null,
   "metadata": {},
   "outputs": [],
   "source": []
  },
  {
   "cell_type": "code",
   "execution_count": null,
   "metadata": {},
   "outputs": [],
   "source": []
  },
  {
   "cell_type": "code",
   "execution_count": null,
   "metadata": {},
   "outputs": [],
   "source": [
    "s=input(\"enter vehicle registration number\")\n",
    "n=re.fullmatch(\"KA[0][0-6][A-Z][2]\\d{4}\"s)\n",
    "if m!=None:\n",
    "    print(\"its valid\")\n",
    "else:\n",
    "    print(\"not valid\")"
   ]
  },
  {
   "cell_type": "code",
   "execution_count": null,
   "metadata": {},
   "outputs": [],
   "source": []
  },
  {
   "cell_type": "code",
   "execution_count": null,
   "metadata": {},
   "outputs": [],
   "source": [
    "s=input(\"enter vehicle registration number\")\n",
    "n=re.fullmatch(\"KA[0][0-6][A-Z]{2}\\d{4}\",s)\n",
    "if m!=None:\n",
    "    print(\"its valid\")\n",
    "else:\n",
    "    print(\"not valid\")"
   ]
  },
  {
   "cell_type": "code",
   "execution_count": null,
   "metadata": {},
   "outputs": [],
   "source": [
    "s=input(\"Enter vehicle registration number\")\n",
    "m=re.fullmatch(\"KA[0][0-6][A-Z]{2}\\d{4}\",s)\n",
    "if m!=None:\n",
    "print(\"valid registration number\")\n",
    "else:\n",
    "print(\"invalid registration number\")"
   ]
  },
  {
   "cell_type": "code",
   "execution_count": null,
   "metadata": {},
   "outputs": [],
   "source": [
    "import re"
   ]
  },
  {
   "cell_type": "code",
   "execution_count": null,
   "metadata": {},
   "outputs": [],
   "source": []
  }
 ],
 "metadata": {
  "kernelspec": {
   "display_name": "Python 3",
   "language": "python",
   "name": "python3"
  },
  "language_info": {
   "codemirror_mode": {
    "name": "ipython",
    "version": 3
   },
   "file_extension": ".py",
   "mimetype": "text/x-python",
   "name": "python",
   "nbconvert_exporter": "python",
   "pygments_lexer": "ipython3",
   "version": "3.6.5"
  }
 },
 "nbformat": 4,
 "nbformat_minor": 2
}
